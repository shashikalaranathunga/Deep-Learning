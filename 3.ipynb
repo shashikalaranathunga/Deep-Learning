{
 "cells": [
  {
   "cell_type": "code",
   "execution_count": 1,
   "metadata": {
    "colab": {
     "base_uri": "https://localhost:8080/",
     "height": 53
    },
    "colab_type": "code",
    "id": "sLurIDGTUFkd",
    "outputId": "857c5335-bd6f-48b5-c020-488d31ae1013"
   },
   "outputs": [
    {
     "name": "stdout",
     "output_type": "stream",
     "text": [
      "Downloading data from https://storage.googleapis.com/tensorflow/tf-keras-datasets/mnist.npz\n",
      "11493376/11490434 [==============================] - 0s 0us/step\n"
     ]
    }
   ],
   "source": [
    "from tensorflow.keras.datasets import mnist\n",
    "import numpy as np\n",
    "\n",
    "(x_train, _), (x_test, _) = mnist.load_data()\n",
    "\n",
    "x_train = x_train.astype('float32') / 255.\n",
    "x_test = x_test.astype('float32') / 255.\n",
    "x_train = np.reshape(x_train, (len(x_train), 28, 28, 1))  # adapt this if using `channels_first` image data format\n",
    "x_test = np.reshape(x_test, (len(x_test), 28, 28, 1))  # adapt this if using `channels_first` image data format\n",
    "\n",
    "noise_factor = 0.5\n",
    "x_train_noisy = x_train + noise_factor * np.random.normal(loc=0.0, scale=1.0, size=x_train.shape) \n",
    "x_test_noisy = x_test + noise_factor * np.random.normal(loc=0.0, scale=1.0, size=x_test.shape) \n",
    "\n",
    "x_train_noisy = np.clip(x_train_noisy, 0., 1.)\n",
    "x_test_noisy = np.clip(x_test_noisy, 0., 1.)"
   ]
  },
  {
   "cell_type": "code",
   "execution_count": 2,
   "metadata": {
    "colab": {},
    "colab_type": "code",
    "id": "BRZwLg90UFk0"
   },
   "outputs": [],
   "source": [
    "from tensorflow.keras.layers import Input, Dense, Conv2D, MaxPooling2D, UpSampling2D\n",
    "from tensorflow.keras.models import Model\n",
    "from tensorflow.keras import backend as K\n",
    "\n",
    "input_img = Input(shape=(28, 28, 1))  # adapt this if using `channels_first` image data format\n",
    "\n",
    "x = Conv2D(32, (3, 3), activation='relu', padding='same')(input_img)\n",
    "x = MaxPooling2D((2, 2), padding='same')(x)\n",
    "x = Conv2D(32, (3, 3), activation='relu', padding='same')(x)\n",
    "encoded = MaxPooling2D((2, 2), padding='same')(x)\n",
    "\n",
    "# at this point the representation is (7, 7, 32)\n",
    "\n",
    "x = Conv2D(32, (3, 3), activation='relu', padding='same')(encoded)\n",
    "x = UpSampling2D((2, 2))(x)\n",
    "x = Conv2D(32, (3, 3), activation='relu', padding='same')(x)\n",
    "x = UpSampling2D((2, 2))(x)\n",
    "decoded = Conv2D(1, (3, 3), activation='sigmoid', padding='same')(x)\n",
    "\n",
    "autoencoder = Model(input_img, decoded)\n",
    "autoencoder.compile(optimizer='adadelta', loss='binary_crossentropy')"
   ]
  },
  {
   "cell_type": "code",
   "execution_count": 5,
   "metadata": {
    "colab": {
     "base_uri": "https://localhost:8080/",
     "height": 1000
    },
    "colab_type": "code",
    "id": "y-CbNQpuUFlF",
    "outputId": "b8082903-e1e0-4f3e-b490-bb0f47a1fabd"
   },
   "outputs": [
    {
     "name": "stdout",
     "output_type": "stream",
     "text": [
      "Epoch 1/100\n",
      "469/469 [==============================] - 157s 335ms/step - loss: 0.4435 - val_loss: 0.4413\n",
      "Epoch 2/100\n",
      "469/469 [==============================] - 157s 336ms/step - loss: 0.4326 - val_loss: 0.4296\n",
      "Epoch 3/100\n",
      "469/469 [==============================] - 157s 335ms/step - loss: 0.4202 - val_loss: 0.4162\n",
      "Epoch 4/100\n",
      "469/469 [==============================] - 156s 333ms/step - loss: 0.4048 - val_loss: 0.3975\n",
      "Epoch 5/100\n",
      "469/469 [==============================] - 158s 336ms/step - loss: 0.3855 - val_loss: 0.3781\n",
      "Epoch 6/100\n",
      "469/469 [==============================] - 157s 334ms/step - loss: 0.3652 - val_loss: 0.3561\n",
      "Epoch 7/100\n",
      "469/469 [==============================] - 157s 335ms/step - loss: 0.3417 - val_loss: 0.3303\n",
      "Epoch 8/100\n",
      "469/469 [==============================] - 153s 325ms/step - loss: 0.3150 - val_loss: 0.3024\n",
      "Epoch 9/100\n",
      "469/469 [==============================] - 154s 329ms/step - loss: 0.2882 - val_loss: 0.2766\n",
      "Epoch 10/100\n",
      "469/469 [==============================] - 153s 326ms/step - loss: 0.2653 - val_loss: 0.2561\n",
      "Epoch 11/100\n",
      "469/469 [==============================] - 154s 329ms/step - loss: 0.2480 - val_loss: 0.2413\n",
      "Epoch 12/100\n",
      "469/469 [==============================] - 159s 338ms/step - loss: 0.2359 - val_loss: 0.2312\n",
      "Epoch 13/100\n",
      "469/469 [==============================] - 154s 329ms/step - loss: 0.2276 - val_loss: 0.2241\n",
      "Epoch 14/100\n",
      "469/469 [==============================] - 156s 332ms/step - loss: 0.2214 - val_loss: 0.2186\n",
      "Epoch 15/100\n",
      "469/469 [==============================] - 156s 333ms/step - loss: 0.2165 - val_loss: 0.2140\n",
      "Epoch 16/100\n",
      "469/469 [==============================] - 155s 330ms/step - loss: 0.2123 - val_loss: 0.2101\n",
      "Epoch 17/100\n",
      "469/469 [==============================] - 159s 339ms/step - loss: 0.2087 - val_loss: 0.2065\n",
      "Epoch 18/100\n",
      "469/469 [==============================] - 159s 338ms/step - loss: 0.2053 - val_loss: 0.2032\n",
      "Epoch 19/100\n",
      "469/469 [==============================] - 156s 333ms/step - loss: 0.2022 - val_loss: 0.2001\n",
      "Epoch 20/100\n",
      "469/469 [==============================] - 152s 324ms/step - loss: 0.1992 - val_loss: 0.1972\n",
      "Epoch 21/100\n",
      "469/469 [==============================] - 157s 334ms/step - loss: 0.1964 - val_loss: 0.1945\n",
      "Epoch 22/100\n",
      "469/469 [==============================] - 154s 329ms/step - loss: 0.1938 - val_loss: 0.1919\n",
      "Epoch 23/100\n",
      "469/469 [==============================] - 156s 332ms/step - loss: 0.1913 - val_loss: 0.1895\n",
      "Epoch 24/100\n",
      "469/469 [==============================] - 154s 328ms/step - loss: 0.1890 - val_loss: 0.1872\n",
      "Epoch 25/100\n",
      "469/469 [==============================] - 152s 325ms/step - loss: 0.1868 - val_loss: 0.1851\n",
      "Epoch 26/100\n",
      "469/469 [==============================] - 154s 328ms/step - loss: 0.1848 - val_loss: 0.1831\n",
      "Epoch 27/100\n",
      "469/469 [==============================] - 156s 332ms/step - loss: 0.1829 - val_loss: 0.1812\n",
      "Epoch 28/100\n",
      "469/469 [==============================] - 156s 332ms/step - loss: 0.1811 - val_loss: 0.1794\n",
      "Epoch 29/100\n",
      "469/469 [==============================] - 157s 334ms/step - loss: 0.1794 - val_loss: 0.1778\n",
      "Epoch 30/100\n",
      "469/469 [==============================] - 159s 338ms/step - loss: 0.1778 - val_loss: 0.1763\n",
      "Epoch 31/100\n",
      "469/469 [==============================] - 153s 325ms/step - loss: 0.1764 - val_loss: 0.1748\n",
      "Epoch 32/100\n",
      "469/469 [==============================] - 153s 327ms/step - loss: 0.1750 - val_loss: 0.1734\n",
      "Epoch 33/100\n",
      "469/469 [==============================] - 155s 330ms/step - loss: 0.1737 - val_loss: 0.1722\n",
      "Epoch 34/100\n",
      "469/469 [==============================] - 149s 318ms/step - loss: 0.1724 - val_loss: 0.1709\n",
      "Epoch 35/100\n",
      "469/469 [==============================] - 154s 329ms/step - loss: 0.1712 - val_loss: 0.1698\n",
      "Epoch 36/100\n",
      "469/469 [==============================] - 150s 319ms/step - loss: 0.1701 - val_loss: 0.1687\n",
      "Epoch 37/100\n",
      "469/469 [==============================] - 150s 319ms/step - loss: 0.1691 - val_loss: 0.1677\n",
      "Epoch 38/100\n",
      "469/469 [==============================] - 152s 325ms/step - loss: 0.1681 - val_loss: 0.1667\n",
      "Epoch 39/100\n",
      "469/469 [==============================] - 154s 328ms/step - loss: 0.1671 - val_loss: 0.1657\n",
      "Epoch 40/100\n",
      "469/469 [==============================] - 152s 325ms/step - loss: 0.1662 - val_loss: 0.1649\n",
      "Epoch 41/100\n",
      "469/469 [==============================] - 154s 328ms/step - loss: 0.1654 - val_loss: 0.1640\n",
      "Epoch 42/100\n",
      "469/469 [==============================] - 153s 326ms/step - loss: 0.1646 - val_loss: 0.1632\n",
      "Epoch 43/100\n",
      "469/469 [==============================] - 154s 329ms/step - loss: 0.1638 - val_loss: 0.1625\n",
      "Epoch 44/100\n",
      "469/469 [==============================] - 154s 328ms/step - loss: 0.1631 - val_loss: 0.1617\n",
      "Epoch 45/100\n",
      "469/469 [==============================] - 154s 329ms/step - loss: 0.1623 - val_loss: 0.1610\n",
      "Epoch 46/100\n",
      "469/469 [==============================] - 154s 328ms/step - loss: 0.1617 - val_loss: 0.1603\n",
      "Epoch 47/100\n",
      "469/469 [==============================] - 155s 330ms/step - loss: 0.1610 - val_loss: 0.1597\n",
      "Epoch 48/100\n",
      "469/469 [==============================] - 154s 328ms/step - loss: 0.1604 - val_loss: 0.1591\n",
      "Epoch 49/100\n",
      "469/469 [==============================] - 148s 316ms/step - loss: 0.1598 - val_loss: 0.1585\n",
      "Epoch 50/100\n",
      "469/469 [==============================] - 149s 318ms/step - loss: 0.1592 - val_loss: 0.1579\n",
      "Epoch 51/100\n",
      "469/469 [==============================] - 147s 313ms/step - loss: 0.1587 - val_loss: 0.1574\n",
      "Epoch 52/100\n",
      "469/469 [==============================] - 149s 318ms/step - loss: 0.1582 - val_loss: 0.1569\n",
      "Epoch 53/100\n",
      "469/469 [==============================] - 147s 313ms/step - loss: 0.1576 - val_loss: 0.1563\n",
      "Epoch 54/100\n",
      "469/469 [==============================] - 152s 323ms/step - loss: 0.1571 - val_loss: 0.1558\n",
      "Epoch 55/100\n",
      "469/469 [==============================] - 149s 318ms/step - loss: 0.1567 - val_loss: 0.1554\n",
      "Epoch 56/100\n",
      "469/469 [==============================] - 155s 330ms/step - loss: 0.1562 - val_loss: 0.1549\n",
      "Epoch 57/100\n",
      "469/469 [==============================] - 151s 322ms/step - loss: 0.1557 - val_loss: 0.1544\n",
      "Epoch 58/100\n",
      "469/469 [==============================] - 152s 325ms/step - loss: 0.1553 - val_loss: 0.1540\n",
      "Epoch 59/100\n",
      "469/469 [==============================] - 151s 323ms/step - loss: 0.1548 - val_loss: 0.1535\n",
      "Epoch 60/100\n",
      "469/469 [==============================] - 153s 327ms/step - loss: 0.1544 - val_loss: 0.1531\n",
      "Epoch 61/100\n",
      "469/469 [==============================] - 154s 327ms/step - loss: 0.1540 - val_loss: 0.1527\n",
      "Epoch 62/100\n",
      "469/469 [==============================] - 151s 322ms/step - loss: 0.1536 - val_loss: 0.1523\n",
      "Epoch 63/100\n",
      "469/469 [==============================] - 156s 332ms/step - loss: 0.1531 - val_loss: 0.1518\n",
      "Epoch 64/100\n",
      "469/469 [==============================] - 156s 333ms/step - loss: 0.1527 - val_loss: 0.1514\n",
      "Epoch 65/100\n",
      "469/469 [==============================] - 157s 335ms/step - loss: 0.1523 - val_loss: 0.1510\n",
      "Epoch 66/100\n",
      "469/469 [==============================] - 159s 339ms/step - loss: 0.1519 - val_loss: 0.1506\n",
      "Epoch 67/100\n",
      "469/469 [==============================] - 156s 333ms/step - loss: 0.1515 - val_loss: 0.1502\n",
      "Epoch 68/100\n",
      "469/469 [==============================] - 154s 328ms/step - loss: 0.1511 - val_loss: 0.1498\n",
      "Epoch 69/100\n",
      "469/469 [==============================] - 147s 314ms/step - loss: 0.1508 - val_loss: 0.1495\n",
      "Epoch 70/100\n",
      "469/469 [==============================] - 149s 318ms/step - loss: 0.1504 - val_loss: 0.1491\n",
      "Epoch 71/100\n",
      "469/469 [==============================] - 147s 314ms/step - loss: 0.1500 - val_loss: 0.1488\n",
      "Epoch 72/100\n",
      "469/469 [==============================] - 152s 323ms/step - loss: 0.1497 - val_loss: 0.1484\n",
      "Epoch 73/100\n",
      "469/469 [==============================] - 154s 329ms/step - loss: 0.1494 - val_loss: 0.1481\n",
      "Epoch 74/100\n",
      "469/469 [==============================] - 155s 331ms/step - loss: 0.1490 - val_loss: 0.1477\n",
      "Epoch 75/100\n",
      "469/469 [==============================] - 160s 341ms/step - loss: 0.1487 - val_loss: 0.1474\n",
      "Epoch 76/100\n",
      "469/469 [==============================] - 155s 331ms/step - loss: 0.1484 - val_loss: 0.1471\n",
      "Epoch 77/100\n",
      "469/469 [==============================] - 155s 331ms/step - loss: 0.1481 - val_loss: 0.1468\n",
      "Epoch 78/100\n",
      "469/469 [==============================] - 155s 330ms/step - loss: 0.1478 - val_loss: 0.1465\n",
      "Epoch 79/100\n",
      "469/469 [==============================] - 157s 336ms/step - loss: 0.1475 - val_loss: 0.1462\n",
      "Epoch 80/100\n",
      "469/469 [==============================] - 154s 329ms/step - loss: 0.1472 - val_loss: 0.1459\n",
      "Epoch 81/100\n",
      "469/469 [==============================] - 161s 343ms/step - loss: 0.1469 - val_loss: 0.1456\n",
      "Epoch 82/100\n",
      "469/469 [==============================] - 161s 343ms/step - loss: 0.1466 - val_loss: 0.1453\n",
      "Epoch 83/100\n",
      "469/469 [==============================] - 162s 345ms/step - loss: 0.1463 - val_loss: 0.1450\n",
      "Epoch 84/100\n",
      "469/469 [==============================] - 162s 345ms/step - loss: 0.1460 - val_loss: 0.1447\n",
      "Epoch 85/100\n",
      "469/469 [==============================] - 161s 342ms/step - loss: 0.1458 - val_loss: 0.1445\n",
      "Epoch 86/100\n",
      "469/469 [==============================] - 159s 339ms/step - loss: 0.1455 - val_loss: 0.1442\n",
      "Epoch 87/100\n",
      "469/469 [==============================] - 158s 337ms/step - loss: 0.1452 - val_loss: 0.1439\n",
      "Epoch 88/100\n",
      "469/469 [==============================] - 153s 327ms/step - loss: 0.1450 - val_loss: 0.1437\n",
      "Epoch 89/100\n",
      "469/469 [==============================] - 149s 317ms/step - loss: 0.1447 - val_loss: 0.1434\n",
      "Epoch 90/100\n",
      "469/469 [==============================] - 147s 313ms/step - loss: 0.1444 - val_loss: 0.1431\n",
      "Epoch 91/100\n",
      "469/469 [==============================] - 147s 314ms/step - loss: 0.1442 - val_loss: 0.1429\n",
      "Epoch 92/100\n",
      "469/469 [==============================] - 149s 317ms/step - loss: 0.1439 - val_loss: 0.1426\n",
      "Epoch 93/100\n",
      "469/469 [==============================] - 160s 341ms/step - loss: 0.1437 - val_loss: 0.1424\n",
      "Epoch 94/100\n",
      "469/469 [==============================] - 157s 334ms/step - loss: 0.1435 - val_loss: 0.1422\n",
      "Epoch 95/100\n",
      "469/469 [==============================] - 156s 334ms/step - loss: 0.1432 - val_loss: 0.1419\n",
      "Epoch 96/100\n",
      "469/469 [==============================] - 155s 331ms/step - loss: 0.1430 - val_loss: 0.1417\n",
      "Epoch 97/100\n",
      "469/469 [==============================] - 156s 333ms/step - loss: 0.1428 - val_loss: 0.1415\n",
      "Epoch 98/100\n",
      "469/469 [==============================] - 153s 326ms/step - loss: 0.1425 - val_loss: 0.1412\n",
      "Epoch 99/100\n",
      "469/469 [==============================] - 153s 327ms/step - loss: 0.1423 - val_loss: 0.1410\n",
      "Epoch 100/100\n",
      "469/469 [==============================] - 156s 332ms/step - loss: 0.1421 - val_loss: 0.1408\n"
     ]
    }
   ],
   "source": [
    "history=autoencoder.fit(x_train_noisy, x_train,\n",
    "                epochs=100,\n",
    "                batch_size=128,\n",
    "                shuffle=True,\n",
    "                validation_data=(x_test_noisy, x_test))"
   ]
  },
  {
   "cell_type": "code",
   "execution_count": 6,
   "metadata": {
    "colab": {
     "base_uri": "https://localhost:8080/",
     "height": 35
    },
    "colab_type": "code",
    "id": "TaQrNDRLcehC",
    "outputId": "0ca5549d-4612-4234-d124-487bf3553259"
   },
   "outputs": [
    {
     "name": "stdout",
     "output_type": "stream",
     "text": [
      "(10000, 28, 28, 1)\n"
     ]
    }
   ],
   "source": [
    "decoded_imgs = autoencoder.predict(x_test_noisy)\n",
    "\n",
    "print(decoded_imgs.shape)"
   ]
  },
  {
   "cell_type": "markdown",
   "metadata": {},
   "source": [
    "New model is trained using noise reduced decoded images for the classification and it's accuarcies can be seen as follows after each epoch"
   ]
  },
  {
   "cell_type": "code",
   "execution_count": 12,
   "metadata": {
    "colab": {},
    "colab_type": "code",
    "id": "5rgiNUGQUFlN"
   },
   "outputs": [],
   "source": [
    "# Importing the required Keras modules containing model and layers\n",
    "import tensorflow as tf\n",
    "from tensorflow.keras.models import Sequential\n",
    "from tensorflow.keras.layers import Input,Dense, Conv2D, Dropout, Flatten, MaxPooling2D\n",
    "# Creating a Sequential Model and adding the layers\n",
    "\n",
    "input_shape = (28, 28, 1)\n",
    "model = tensorflow.keras.Sequential(\n",
    "    [\n",
    "        Input(shape=input_shape),\n",
    "        Conv2D(32, kernel_size=(3, 3), activation=\"relu\"),\n",
    "        MaxPooling2D(pool_size=(2, 2)),\n",
    "        \n",
    "        Conv2D(64, kernel_size=(3, 3), activation=\"relu\"),\n",
    "        MaxPooling2D(pool_size=(2, 2)),\n",
    "        \n",
    "        Flatten(),\n",
    "        \n",
    "        Dense(128, activation=tf.nn.relu),\n",
    "        Dropout(0.5),\n",
    "        Dense(10, activation=tf.nn.softmax),\n",
    "    ]\n",
    ")"
   ]
  },
  {
   "cell_type": "code",
   "execution_count": 15,
   "metadata": {
    "colab": {
     "base_uri": "https://localhost:8080/",
     "height": 72
    },
    "colab_type": "code",
    "id": "krGomwe5d_Tk",
    "outputId": "45e411d3-507c-4e71-f2d3-e70064806130"
   },
   "outputs": [
    {
     "name": "stdout",
     "output_type": "stream",
     "text": [
      "x_train shape: (60000, 28, 28, 1)\n",
      "Number of images in x_train 60000\n",
      "Number of images in x_test 10000\n"
     ]
    }
   ],
   "source": [
    "from tensorflow.keras.datasets import mnist\n",
    "import tensorflow as tf\n",
    "\n",
    "(x_train, y_train), (x_test, y_test) = mnist.load_data()\n",
    "\n",
    "# Reshaping the array to 4-dims so that it can work with the Keras API\n",
    "x_train = x_train.reshape(x_train.shape[0], 28, 28, 1)\n",
    "x_test = x_test.reshape(x_test.shape[0], 28, 28, 1)\n",
    "input_shape = (28, 28, 1)\n",
    "# Making sure that the values are float so that we can get decimal points after division\n",
    "x_train = x_train.astype('float32')\n",
    "x_test = x_test.astype('float32')\n",
    "# Normalizing the RGB codes by dividing it to the max RGB value.\n",
    "x_train /= 255\n",
    "x_test /= 255\n",
    "print('x_train shape:', x_train.shape)\n",
    "print('Number of images in x_train', x_train.shape[0])\n",
    "print('Number of images in x_test', x_test.shape[0])\n",
    "\n",
    "\n",
    "# convert class vectors to binary class matrices\n",
    "y_train = tf.keras.utils.to_categorical(y_train, 10)\n",
    "y_test = tf.keras.utils.to_categorical(y_test, 10)"
   ]
  },
  {
   "cell_type": "code",
   "execution_count": 16,
   "metadata": {
    "colab": {
     "base_uri": "https://localhost:8080/",
     "height": 399
    },
    "colab_type": "code",
    "id": "Le-UwFK0cL-J",
    "outputId": "0ba75f4c-eda8-443b-d2e8-579b4512902d"
   },
   "outputs": [
    {
     "name": "stdout",
     "output_type": "stream",
     "text": [
      "Epoch 1/10\n",
      "282/282 [==============================] - 9s 31ms/step - loss: 0.8308 - accuracy: 0.7282 - val_loss: 0.4024 - val_accuracy: 0.8770\n",
      "Epoch 2/10\n",
      "282/282 [==============================] - 9s 30ms/step - loss: 0.4318 - accuracy: 0.8610 - val_loss: 0.3350 - val_accuracy: 0.8950\n",
      "Epoch 3/10\n",
      "282/282 [==============================] - 8s 29ms/step - loss: 0.3709 - accuracy: 0.8831 - val_loss: 0.3172 - val_accuracy: 0.9060\n",
      "Epoch 4/10\n",
      "282/282 [==============================] - 8s 29ms/step - loss: 0.3244 - accuracy: 0.8954 - val_loss: 0.2888 - val_accuracy: 0.9140\n",
      "Epoch 5/10\n",
      "282/282 [==============================] - 8s 29ms/step - loss: 0.2905 - accuracy: 0.9059 - val_loss: 0.2896 - val_accuracy: 0.9060\n",
      "Epoch 6/10\n",
      "282/282 [==============================] - 8s 29ms/step - loss: 0.2703 - accuracy: 0.9124 - val_loss: 0.2979 - val_accuracy: 0.9080\n",
      "Epoch 7/10\n",
      "282/282 [==============================] - 8s 29ms/step - loss: 0.2488 - accuracy: 0.9197 - val_loss: 0.2814 - val_accuracy: 0.9130\n",
      "Epoch 8/10\n",
      "282/282 [==============================] - 8s 29ms/step - loss: 0.2357 - accuracy: 0.9212 - val_loss: 0.2671 - val_accuracy: 0.9160\n",
      "Epoch 9/10\n",
      "282/282 [==============================] - 8s 29ms/step - loss: 0.2213 - accuracy: 0.9249 - val_loss: 0.2604 - val_accuracy: 0.9210\n",
      "Epoch 10/10\n",
      "282/282 [==============================] - 8s 29ms/step - loss: 0.2031 - accuracy: 0.9334 - val_loss: 0.2914 - val_accuracy: 0.9190\n"
     ]
    },
    {
     "data": {
      "text/plain": [
       "<tensorflow.python.keras.callbacks.History at 0x7fb51c292208>"
      ]
     },
     "execution_count": 16,
     "metadata": {
      "tags": []
     },
     "output_type": "execute_result"
    }
   ],
   "source": [
    "model.compile(optimizer='adam', \n",
    "              loss='categorical_crossentropy', \n",
    "              metrics=['accuracy'])\n",
    "model.fit(decoded_imgs, y_test, epochs=10, validation_split=0.1)"
   ]
  }
 ],
 "metadata": {
  "colab": {
   "name": "try.ipynb",
   "provenance": []
  },
  "kernelspec": {
   "display_name": "Python 3",
   "language": "python",
   "name": "python3"
  },
  "language_info": {
   "codemirror_mode": {
    "name": "ipython",
    "version": 3
   },
   "file_extension": ".py",
   "mimetype": "text/x-python",
   "name": "python",
   "nbconvert_exporter": "python",
   "pygments_lexer": "ipython3",
   "version": "3.7.3"
  }
 },
 "nbformat": 4,
 "nbformat_minor": 1
}
